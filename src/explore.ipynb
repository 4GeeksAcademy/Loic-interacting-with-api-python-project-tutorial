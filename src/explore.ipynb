{
    "cells": [
        {
            "cell_type": "markdown",
            "metadata": {},
            "source": [
                "# Explore here"
            ]
        },
        {
            "cell_type": "code",
            "execution_count": 2,
            "metadata": {},
            "outputs": [
                {
                    "data": {
                        "text/html": [
                            "<div>\n",
                            "<style scoped>\n",
                            "    .dataframe tbody tr th:only-of-type {\n",
                            "        vertical-align: middle;\n",
                            "    }\n",
                            "\n",
                            "    .dataframe tbody tr th {\n",
                            "        vertical-align: top;\n",
                            "    }\n",
                            "\n",
                            "    .dataframe thead th {\n",
                            "        text-align: right;\n",
                            "    }\n",
                            "</style>\n",
                            "<table border=\"1\" class=\"dataframe\">\n",
                            "  <thead>\n",
                            "    <tr style=\"text-align: right;\">\n",
                            "      <th></th>\n",
                            "      <th>name</th>\n",
                            "      <th>duration</th>\n",
                            "      <th>popularity</th>\n",
                            "    </tr>\n",
                            "  </thead>\n",
                            "  <tbody>\n",
                            "    <tr>\n",
                            "      <th>7</th>\n",
                            "      <td>The Attack of the Dead Men</td>\n",
                            "      <td>235720</td>\n",
                            "      <td>63</td>\n",
                            "    </tr>\n",
                            "    <tr>\n",
                            "      <th>5</th>\n",
                            "      <td>Soldier of Heaven</td>\n",
                            "      <td>218000</td>\n",
                            "      <td>63</td>\n",
                            "    </tr>\n",
                            "    <tr>\n",
                            "      <th>9</th>\n",
                            "      <td>The Red Baron</td>\n",
                            "      <td>202333</td>\n",
                            "      <td>63</td>\n",
                            "    </tr>\n",
                            "  </tbody>\n",
                            "</table>\n",
                            "</div>"
                        ],
                        "text/plain": [
                            "                         name  duration  popularity\n",
                            "7  The Attack of the Dead Men    235720          63\n",
                            "5           Soldier of Heaven    218000          63\n",
                            "9               The Red Baron    202333          63"
                        ]
                    },
                    "execution_count": 2,
                    "metadata": {},
                    "output_type": "execute_result"
                }
            ],
            "source": [
                "import os\n",
                "import pandas as pd\n",
                "import matplotlib.pyplot as plt\n",
                "from dotenv import load_dotenv\n",
                "\n",
                "# load the .env file variables\n",
                "load_dotenv()\n",
                "\n",
                "client_id = os.environ.get(\"CLIENT_ID\")\n",
                "client_secret = os.environ.get(\"CLIENT_SECRET\")\n",
                "\n",
                "import spotipy\n",
                "from spotipy.oauth2 import SpotifyClientCredentials\n",
                "\n",
                "try:\n",
                "    auth_manager = SpotifyClientCredentials(client_id=client_id, client_secret=client_secret)\n",
                "    spotify = spotipy.Spotify(auth_manager=auth_manager)\n",
                "    result = spotify.artist_top_tracks(\"3o2dn2O0FCVsWDFSh8qxgG\")\n",
                "    top10 = result['tracks']\n",
                "\n",
                "    data = {'name':[],'duration':[],'popularity':[]}\n",
                "    for track in top10:\n",
                "        data['name'].append(track['name'])\n",
                "        data['duration'].append(track['duration_ms'])\n",
                "        data['popularity'].append(track['popularity'])   \n",
                "except Exception as e:\n",
                "    print(\"Ocurrió un error:\", e)\n",
                "\n",
                "df = pd.DataFrame(data)\n",
                "df_sorted = df.sort_values(['popularity'])\n",
                "df_sorted.head(3)"
            ]
        },
        {
            "cell_type": "code",
            "execution_count": 3,
            "metadata": {},
            "outputs": [
                {
                    "data": {
                        "image/png": "[encoded data removed]",
                        "text/plain": [
                            "<Figure size 1000x500 with 1 Axes>"
                        ]
                    },
                    "metadata": {},
                    "output_type": "display_data"
                }
            ],
            "source": [
                "serie = pd.Series(data['duration'])\n",
                "duracion_s = serie / 1000\n",
                "\n",
                "plt.figure(figsize=(10,5))\n",
                "plt.title('relacion duracion/popularidad')\n",
                "plt.scatter(duracion_s,data['popularity'])\n",
                "plt.show()"
            ]
        },
        {
            "cell_type": "markdown",
            "metadata": {},
            "source": [
                "Viendo el intervalo de duracion de las canciones (de 180s a 315s), considerando que solo hay 2 canciones con una popularidad ligeramente superior, y que el resto se mueve en un rango de popularidad de 63-65 a lo largo de todo el espectro de duracion, podemos concluir que no existe una relacion entre la duracion y la popularidad de las canciones."
            ]
        }
    ],
    "metadata": {
        "kernelspec": {
            "display_name": "Python 3",
            "language": "python",
            "name": "python3"
        },
        "language_info": {
            "codemirror_mode": {
                "name": "ipython",
                "version": 3
            },
            "file_extension": ".py",
            "mimetype": "text/x-python",
            "name": "python",
            "nbconvert_exporter": "python",
            "pygments_lexer": "ipython3",
            "version": "3.11.4"
        },
        "orig_nbformat": 4
    },
    "nbformat": 4,
    "nbformat_minor": 2
}
